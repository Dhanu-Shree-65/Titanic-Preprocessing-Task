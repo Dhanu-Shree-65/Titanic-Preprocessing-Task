{
 "cells": [
  {
   "cell_type": "markdown",
   "id": "fb0a19f8",
   "metadata": {},
   "source": [
    "# Titanic Dataset - Data Cleaning & Preprocessing\n",
    "*Date: 2025-06-23*\n",
    "\n",
    "This notebook performs data cleaning and preprocessing on the Titanic dataset as part of an AI & ML internship task."
   ]
  },
  {
   "cell_type": "markdown",
   "id": "d6b43404",
   "metadata": {},
   "source": [
    "## Step 1: Import Required Libraries"
   ]
  },
  {
   "cell_type": "code",
   "execution_count": null,
   "id": "3ad846ac",
   "metadata": {},
   "outputs": [],
   "source": [
    "import pandas as pd\n",
    "import numpy as np\n",
    "import matplotlib.pyplot as plt\n",
    "import seaborn as sns\n",
    "from sklearn.preprocessing import StandardScaler\n",
    "from google.colab import files"
   ]
  },
  {
   "cell_type": "markdown",
   "id": "fb516687",
   "metadata": {},
   "source": [
    "## Step 2: Upload and Load the Dataset"
   ]
  },
  {
   "cell_type": "code",
   "execution_count": null,
   "id": "c1d97873",
   "metadata": {},
   "outputs": [],
   "source": [
    "uploaded = files.upload()  # Upload Titanic-Dataset.csv\n",
    "df = pd.read_csv('Titanic-Dataset.csv')  # Make sure file name matches\n",
    "df.head()"
   ]
  },
  {
   "cell_type": "markdown",
   "id": "f804b865",
   "metadata": {},
   "source": [
    "## Step 3: Explore Dataset"
   ]
  },
  {
   "cell_type": "code",
   "execution_count": null,
   "id": "7c337378",
   "metadata": {},
   "outputs": [],
   "source": [
    "df.info()\n",
    "df.isnull().sum()"
   ]
  },
  {
   "cell_type": "markdown",
   "id": "0dee44ee",
   "metadata": {},
   "source": [
    "## Step 4: Handle Missing Values"
   ]
  },
  {
   "cell_type": "code",
   "execution_count": null,
   "id": "911e7811",
   "metadata": {},
   "outputs": [],
   "source": [
    "df['Age'].fillna(df['Age'].median(), inplace=True)\n",
    "df['Embarked'].fillna(df['Embarked'].mode()[0], inplace=True)\n",
    "df.drop(columns='Cabin', inplace=True)"
   ]
  },
  {
   "cell_type": "markdown",
   "id": "b2995d59",
   "metadata": {},
   "source": [
    "## Step 5: Encode Categorical Features"
   ]
  },
  {
   "cell_type": "code",
   "execution_count": null,
   "id": "5c41ea6b",
   "metadata": {},
   "outputs": [],
   "source": [
    "df['Sex'] = df['Sex'].map({'male': 0, 'female': 1})\n",
    "df = pd.get_dummies(df, columns=['Embarked'], drop_first=True)"
   ]
  },
  {
   "cell_type": "markdown",
   "id": "1965e3c7",
   "metadata": {},
   "source": [
    "## Step 6: Normalize Numerical Features"
   ]
  },
  {
   "cell_type": "code",
   "execution_count": null,
   "id": "ca82c95b",
   "metadata": {},
   "outputs": [],
   "source": [
    "scaler = StandardScaler()\n",
    "df[['Age', 'Fare']] = scaler.fit_transform(df[['Age', 'Fare']])"
   ]
  },
  {
   "cell_type": "markdown",
   "id": "9ca51eef",
   "metadata": {},
   "source": [
    "## Step 7: Visualize Outliers"
   ]
  },
  {
   "cell_type": "code",
   "execution_count": null,
   "id": "04c39a24",
   "metadata": {},
   "outputs": [],
   "source": [
    "sns.boxplot(x=df['Age'])\n",
    "plt.title(\"Boxplot - Age\")\n",
    "plt.show()\n",
    "\n",
    "sns.boxplot(x=df['Fare'])\n",
    "plt.title(\"Boxplot - Fare\")\n",
    "plt.show()"
   ]
  },
  {
   "cell_type": "markdown",
   "id": "f60c2e07",
   "metadata": {},
   "source": [
    "## Step 8: Remove Outliers Using IQR"
   ]
  },
  {
   "cell_type": "code",
   "execution_count": null,
   "id": "7a43f443",
   "metadata": {},
   "outputs": [],
   "source": [
    "Q1 = df['Fare'].quantile(0.25)\n",
    "Q3 = df['Fare'].quantile(0.75)\n",
    "IQR = Q3 - Q1\n",
    "\n",
    "df = df[(df['Fare'] >= Q1 - 1.5 * IQR) & (df['Fare'] <= Q3 + 1.5 * IQR)]"
   ]
  },
  {
   "cell_type": "markdown",
   "id": "eedd3dc5",
   "metadata": {},
   "source": [
    "## Step 9: Save Cleaned Data (Optional)"
   ]
  },
  {
   "cell_type": "code",
   "execution_count": null,
   "id": "7dab3d4c",
   "metadata": {},
   "outputs": [],
   "source": [
    "df.to_csv('cleaned_titanic.csv', index=False)\n",
    "files.download('cleaned_titanic.csv')"
   ]
  }
 ],
 "metadata": {},
 "nbformat": 4,
 "nbformat_minor": 5
}